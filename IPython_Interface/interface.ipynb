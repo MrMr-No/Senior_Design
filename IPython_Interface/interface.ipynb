{
 "cells": [
  {
   "cell_type": "code",
   "execution_count": 1,
   "metadata": {
    "collapsed": false,
    "scrolled": true
   },
   "outputs": [
    {
     "name": "stdout",
     "output_type": "stream",
     "text": [
      "Before WebSockets Connection\n",
      "Made it here\n"
     ]
    }
   ],
   "source": [
    "# %load interface.py\n",
    "#This file contains the notebook interface script\n",
    "\n",
    "\n",
    "import numpy as np\n",
    "import matplotlib.pyplot as plt\n",
    "import time\n",
    "import math\n",
    "from SocketsCreator import CreateClient\n",
    "from SocketsCreator import PyClient\n",
    "\n",
    "\n",
    "#beagleBone Connection\n",
    "\n",
    "AnalogVoltages = []\n",
    "\n",
    "webSocket = CreateClient()\n",
    "# webSocket.send(\"hello world\")\n",
    "#Number of Samples\n",
    "n = 4; \n",
    "# AnalogValue1 = ReadAnalog(double x, double y)\n",
    "\n",
    "\n",
    "\n",
    "\n",
    "\n",
    "\n",
    "\n",
    "\n",
    "\n",
    "# sample_analog_data = [1,3,4,5,3,6,7,7,8,5,2,1]\n",
    "# time = [(lambda x: x+1)(x) for x in range(len(sample_analog_data))]\n",
    "\n",
    "# sample_data_array = np.array(sample_analog_data)\n",
    "# time_array = np.array(time)\n",
    "\n",
    "\n",
    "\n",
    "# plt.plot(time_array, sample_data_array)\n",
    "# plt.show()\n",
    "\n",
    "\n"
   ]
  },
  {
   "cell_type": "code",
   "execution_count": 4,
   "metadata": {
    "collapsed": false
   },
   "outputs": [
    {
     "name": "stdout",
     "output_type": "stream",
     "text": [
      "None\n",
      "Closed down 1006 Going away\n"
     ]
    }
   ],
   "source": [
    "print webSocket"
   ]
  },
  {
   "cell_type": "code",
   "execution_count": 2,
   "metadata": {
    "collapsed": false
   },
   "outputs": [
    {
     "name": "stdout",
     "output_type": "stream",
     "text": [
      "Recieved message:  Connection Successful\n",
      "Recieved message:  Node connected \n",
      "Recieved message:  Analog Voltage: 1.469\n"
     ]
    }
   ],
   "source": [
    "webSocket.send(\"shimmy\")"
   ]
  },
  {
   "cell_type": "code",
   "execution_count": null,
   "metadata": {
    "collapsed": true
   },
   "outputs": [],
   "source": []
  }
 ],
 "metadata": {
  "kernelspec": {
   "display_name": "Python 2",
   "language": "python",
   "name": "python2"
  },
  "language_info": {
   "codemirror_mode": {
    "name": "ipython",
    "version": 2
   },
   "file_extension": ".py",
   "mimetype": "text/x-python",
   "name": "python",
   "nbconvert_exporter": "python",
   "pygments_lexer": "ipython2",
   "version": "2.7.9"
  }
 },
 "nbformat": 4,
 "nbformat_minor": 0
}
