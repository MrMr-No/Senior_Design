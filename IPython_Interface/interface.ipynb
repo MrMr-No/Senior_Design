{
 "cells": [
  {
   "cell_type": "code",
   "execution_count": 13,
   "metadata": {
    "collapsed": false,
    "scrolled": true
   },
   "outputs": [
    {
     "name": "stdout",
     "output_type": "stream",
     "text": [
      "         X    Y\n",
      "Index          \n",
      "0      150  150\n",
      "1      100  100\n",
      "2      150  150\n",
      "3      100  100\n",
      "4      150  150\n",
      "5      100  100\n",
      "6      150  150\n",
      "7      100  100\n",
      "8      150  150\n",
      "9      100  100\n",
      "Before WebSockets Connection\n",
      "Made it here\n",
      "Recieved message:  Connection Successful\n",
      "Last_recieved_Message Connection Successful\n",
      "Recieved message:  Connection Made\n",
      "Last_recieved_Message Connection Made\n",
      "Recieved message:  Analog Voltage: 0.457\n",
      "Last_recieved_Message Analog Voltage: 0.457\n"
     ]
    }
   ],
   "source": [
    "# %load interface.py\n",
    "#This file contains the notebook interface script\n",
    "\n",
    "import pandas as pd\n",
    "import matplotlib.pyplot as plt\n",
    "import time\n",
    "import math\n",
    "from SocketsCreator import CreateClient\n",
    "from SocketsCreator import PyClient\n",
    "import time\n",
    "\n",
    "#Experiment Constants\n",
    "ambientPressure = 100000 #Pa\n",
    "ambientTemperature = 298.1 #K\n",
    "R = 8.31445 #m3 Pa K−1 mol−1\n",
    "ambientDensity = ambientPressure/R*ambientTemperature\n",
    "\n",
    "#Width of airfoil at largest point\n",
    "width_of_airfoil = 30 #cm\n",
    "\n",
    "#Add measured freestream airspeed\n",
    "free_stream_Airspeed = 5 # m/s \n",
    "\n",
    "#Sensor Calibration\n",
    "Voff = .428 #V\n",
    "Vsense = 0.0006 #V/Pa\n",
    "\n",
    "\n",
    "\n",
    "#Read Datapoints from CSV\n",
    "\n",
    "csv_path = \"/Users/alexlerikos/Desktop/python/SeniorDesign/Senior_Design/IPython_Interface/SampleInput.csv\"\n",
    "\n",
    "\n",
    "InputDF = pd.DataFrame.from_csv(csv_path)\n",
    "OutputDF = pd.DataFrame(columns=['X','Y','Analog Voltage Output (V)', 'Measured Airspeed (m/s)'])\n",
    "\n",
    "print InputDF\n",
    "\n",
    "#beagleBone Connection\n",
    "\n",
    "webSocket = CreateClient()\n",
    "time.sleep(1)\n"
   ]
  },
  {
   "cell_type": "code",
   "execution_count": 14,
   "metadata": {
    "collapsed": false
   },
   "outputs": [
    {
     "name": "stdout",
     "output_type": "stream",
     "text": [
      "X    150\n",
      "Name: 0, dtype: int64\n",
      "Y    150\n",
      "Name: 0, dtype: int64\n",
      "ReadAnalog(150.000000,150.000000)\n",
      "Sending message: ReadAnalog(150.000000,150.000000)\n",
      "Recieved message: SocketsCreator Message: Analog Voltage: 0.457 0.454\n",
      "Last_recieved_Message 0.454\n",
      "\n",
      "IPython message =  0.454\n",
      "0.236235330453\n",
      "X    100\n",
      "Name: 1, dtype: int64\n",
      "Y    100\n",
      "Name: 1, dtype: int64\n",
      "ReadAnalog(100.000000,100.000000)\n",
      "Sending message: ReadAnalog(100.000000,100.000000)\n",
      "Recieved message:  0.457\n",
      "Last_recieved_Message 0.457\n",
      "SocketsCreator Message: 0.457\n",
      "IPython message =  0.457\n",
      "0.236241233704\n",
      "X    150\n",
      "Name: 2, dtype: int64\n",
      "Y    150\n",
      "Name: 2, dtype: int64\n",
      "ReadAnalog(150.000000,150.000000)\n",
      "Sending message: ReadAnalog(150.000000,150.000000)\n",
      "Recieved message:  0.459\n",
      "Last_recieved_Message 0.459\n",
      "SocketsCreator Message: 0.459\n",
      "IPython message =  0.459\n",
      "0.236245169123\n",
      "X    100\n",
      "Name: 3, dtype: int64\n",
      "Y    100\n",
      "Name: 3, dtype: int64\n",
      "ReadAnalog(100.000000,100.000000)\n",
      "Sending message: ReadAnalog(100.000000,100.000000)\n",
      "Recieved message:  0.457\n",
      "Last_recieved_Message 0.457\n",
      "SocketsCreator Message: 0.457\n",
      "IPython message =  0.457\n",
      "0.236241233704\n",
      "X    150\n",
      "Name: 4, dtype: int64\n",
      "Y    150\n",
      "Name: 4, dtype: int64\n",
      "ReadAnalog(150.000000,150.000000)\n",
      "Sending message: ReadAnalog(150.000000,150.000000)\n"
     ]
    },
    {
     "ename": "KeyboardInterrupt",
     "evalue": "",
     "output_type": "error",
     "traceback": [
      "\u001b[0;31m---------------------------------------------------------------------------\u001b[0m",
      "\u001b[0;31mKeyboardInterrupt\u001b[0m                         Traceback (most recent call last)",
      "\u001b[0;32m<ipython-input-14-df8d5cf8ed4a>\u001b[0m in \u001b[0;36m<module>\u001b[0;34m()\u001b[0m\n\u001b[1;32m     13\u001b[0m     \u001b[0;32mprint\u001b[0m \u001b[0mReadAnalogString\u001b[0m\u001b[0;34m\u001b[0m\u001b[0m\n\u001b[1;32m     14\u001b[0m \u001b[0;34m\u001b[0m\u001b[0m\n\u001b[0;32m---> 15\u001b[0;31m     \u001b[0mMessage\u001b[0m \u001b[0;34m=\u001b[0m \u001b[0mwebSocket\u001b[0m\u001b[0;34m.\u001b[0m\u001b[0mresponse\u001b[0m\u001b[0;34m(\u001b[0m\u001b[0mReadAnalogString\u001b[0m\u001b[0;34m)\u001b[0m\u001b[0;34m\u001b[0m\u001b[0m\n\u001b[0m\u001b[1;32m     16\u001b[0m \u001b[0;34m\u001b[0m\u001b[0m\n\u001b[1;32m     17\u001b[0m     \u001b[0;32mprint\u001b[0m \u001b[0;34m\"IPython message = \"\u001b[0m\u001b[0;34m,\u001b[0m \u001b[0mMessage\u001b[0m\u001b[0;34m\u001b[0m\u001b[0m\n",
      "\u001b[0;32m/Users/alexlerikos/Desktop/python/SeniorDesign/Senior_Design/IPython_Interface/SocketsCreator.pyc\u001b[0m in \u001b[0;36mresponse\u001b[0;34m(self, message)\u001b[0m\n\u001b[1;32m     46\u001b[0m \u001b[0;34m\u001b[0m\u001b[0m\n\u001b[1;32m     47\u001b[0m         \u001b[0;32mwhile\u001b[0m \u001b[0mself\u001b[0m\u001b[0;34m.\u001b[0m\u001b[0mwaiting_for_response\u001b[0m \u001b[0;32mor\u001b[0m \u001b[0mtimer\u001b[0m \u001b[0;34m<=\u001b[0m \u001b[0;36m2\u001b[0m\u001b[0;34m:\u001b[0m\u001b[0;34m\u001b[0m\u001b[0m\n\u001b[0;32m---> 48\u001b[0;31m             \u001b[0mtimer\u001b[0m \u001b[0;34m=\u001b[0m \u001b[0mtime\u001b[0m\u001b[0;34m.\u001b[0m\u001b[0mtime\u001b[0m\u001b[0;34m(\u001b[0m\u001b[0;34m)\u001b[0m \u001b[0;34m-\u001b[0m \u001b[0msend_time\u001b[0m\u001b[0;34m\u001b[0m\u001b[0m\n\u001b[0m\u001b[1;32m     49\u001b[0m \u001b[0;34m\u001b[0m\u001b[0m\n\u001b[1;32m     50\u001b[0m \u001b[0;34m\u001b[0m\u001b[0m\n",
      "\u001b[0;31mKeyboardInterrupt\u001b[0m: "
     ]
    }
   ],
   "source": [
    "time.sleep(1)\n",
    "\n",
    "#Batch Test\n",
    "\n",
    "for i in range(0,len(InputDF.index)):\n",
    "    print InputDF[['X']].ix[i]\n",
    "    print InputDF[['Y']].ix[i]\n",
    "    XC = InputDF[['X']].ix[i]\n",
    "    YC = InputDF[['Y']].ix[i]\n",
    "    \n",
    "    \n",
    "    ReadAnalogString = \"ReadAnalog(%f,%f)\" % (XC,YC)\n",
    "    print ReadAnalogString\n",
    "    \n",
    "    Message = webSocket.response(ReadAnalogString)\n",
    "    \n",
    "    print \"IPython message = \", Message\n",
    "    OutputDF.loc[i] = Message\n",
    "    \n",
    "    #Calculate Airspeed\n",
    "    #------------------\n",
    "    \n",
    "    #output pressure\n",
    "    outputPressure = ambientPressure + (float(Message) - Voff)/Vsense # Pa\n",
    "    #output Airspeed\n",
    "    Vair = math.sqrt(2 * outputPressure/ambientDensity) #m/s\n",
    "    print Vair\n",
    "    \n",
    "    \n",
    "    #Add data to Dataframe\n",
    "    OutputDF.loc[i] = [float(XC),float(YC),Message,Vair]\n",
    "    time.sleep(1)\n",
    "    \n",
    "\n",
    "print \"End of Batch\""
   ]
  },
  {
   "cell_type": "markdown",
   "metadata": {
    "collapsed": false,
    "scrolled": true
   },
   "source": [
    "OutputDF"
   ]
  },
  {
   "cell_type": "code",
   "execution_count": 15,
   "metadata": {
    "collapsed": false,
    "scrolled": true
   },
   "outputs": [
    {
     "name": "stdout",
     "output_type": "stream",
     "text": [
      "Recieved message:  0.457\n",
      "Last_recieved_Message 0.457\n"
     ]
    },
    {
     "data": {
      "text/html": [
       "<div style=\"max-height:1000px;max-width:1500px;overflow:auto;\">\n",
       "<table border=\"1\" class=\"dataframe\">\n",
       "  <thead>\n",
       "    <tr style=\"text-align: right;\">\n",
       "      <th></th>\n",
       "      <th>X</th>\n",
       "      <th>Y</th>\n",
       "      <th>Analog Voltage Output (V)</th>\n",
       "      <th>Measured Airspeed (m/s)</th>\n",
       "    </tr>\n",
       "  </thead>\n",
       "  <tbody>\n",
       "    <tr>\n",
       "      <th>0</th>\n",
       "      <td> 150</td>\n",
       "      <td> 150</td>\n",
       "      <td> 0.454</td>\n",
       "      <td> 0.2362353</td>\n",
       "    </tr>\n",
       "    <tr>\n",
       "      <th>1</th>\n",
       "      <td> 100</td>\n",
       "      <td> 100</td>\n",
       "      <td> 0.457</td>\n",
       "      <td> 0.2362412</td>\n",
       "    </tr>\n",
       "    <tr>\n",
       "      <th>2</th>\n",
       "      <td> 150</td>\n",
       "      <td> 150</td>\n",
       "      <td> 0.459</td>\n",
       "      <td> 0.2362452</td>\n",
       "    </tr>\n",
       "    <tr>\n",
       "      <th>3</th>\n",
       "      <td> 100</td>\n",
       "      <td> 100</td>\n",
       "      <td> 0.457</td>\n",
       "      <td> 0.2362412</td>\n",
       "    </tr>\n",
       "  </tbody>\n",
       "</table>\n",
       "</div>"
      ],
      "text/plain": [
       "     X    Y Analog Voltage Output (V) Measured Airspeed (m/s)\n",
       "0  150  150                     0.454               0.2362353\n",
       "1  100  100                     0.457               0.2362412\n",
       "2  150  150                     0.459               0.2362452\n",
       "3  100  100                     0.457               0.2362412"
      ]
     },
     "execution_count": 15,
     "metadata": {},
     "output_type": "execute_result"
    }
   ],
   "source": [
    "OutputDF"
   ]
  },
  {
   "cell_type": "code",
   "execution_count": 6,
   "metadata": {
    "collapsed": false
   },
   "outputs": [],
   "source": [
    "webSocket.send(\"Move_X(10.0)\")"
   ]
  },
  {
   "cell_type": "code",
   "execution_count": 7,
   "metadata": {
    "collapsed": false
   },
   "outputs": [],
   "source": [
    "webSocket.send(\"Move_Y(10.0)\")"
   ]
  },
  {
   "cell_type": "code",
   "execution_count": 8,
   "metadata": {
    "collapsed": false
   },
   "outputs": [
    {
     "name": "stdout",
     "output_type": "stream",
     "text": [
      "Sending message: ReturnAnalog()\n",
      "Recieved message:  0.457\n",
      "Last_recieved_Message 0.457\n",
      "SocketsCreator Message: 0.457\n"
     ]
    },
    {
     "data": {
      "text/plain": [
       "u'0.457'"
      ]
     },
     "execution_count": 8,
     "metadata": {},
     "output_type": "execute_result"
    }
   ],
   "source": [
    "Analog = webSocket.response(\"ReturnAnalog()\")\n",
    "\n",
    "#Display Analog\n",
    "Analog"
   ]
  },
  {
   "cell_type": "code",
   "execution_count": 9,
   "metadata": {
    "collapsed": false
   },
   "outputs": [
    {
     "name": "stdout",
     "output_type": "stream",
     "text": [
      "Sending message: ReadAnalog(0.0,0.0)\n",
      "Recieved message:  0.45600000000000007\n",
      "Last_recieved_Message 0.45600000000000007\n",
      "SocketsCreator Message: 0.45600000000000007\n",
      "Ipython message =  0.45600000000000007\n"
     ]
    }
   ],
   "source": [
    "#Sample message: API Format \"ReadAnalog(double x, double y)\"\n",
    "#ResponseString = \"ReadAnalog({1},{2})\".format(InputDF[)\n",
    "time.sleep(1)\n",
    "Message = webSocket.response(\"ReadAnalog(0.0,0.0)\")\n",
    "# time.sleep(2)\n",
    "print \"Ipython message = \",Message\n"
   ]
  },
  {
   "cell_type": "code",
   "execution_count": null,
   "metadata": {
    "collapsed": true
   },
   "outputs": [],
   "source": []
  }
 ],
 "metadata": {
  "kernelspec": {
   "display_name": "Python 2",
   "language": "python",
   "name": "python2"
  },
  "language_info": {
   "codemirror_mode": {
    "name": "ipython",
    "version": 2
   },
   "file_extension": ".py",
   "mimetype": "text/x-python",
   "name": "python",
   "nbconvert_exporter": "python",
   "pygments_lexer": "ipython2",
   "version": "2.7.11"
  }
 },
 "nbformat": 4,
 "nbformat_minor": 0
}
