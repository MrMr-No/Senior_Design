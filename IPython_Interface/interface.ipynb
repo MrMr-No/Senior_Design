{
 "cells": [
  {
   "cell_type": "code",
   "execution_count": 3,
   "metadata": {
    "collapsed": false,
    "scrolled": true
   },
   "outputs": [
    {
     "name": "stdout",
     "output_type": "stream",
     "text": [
      "          X     Y  Delta T\n",
      "Index                     \n",
      "0       4.0   5.0        2\n",
      "1       6.8   9.2        1\n",
      "2       0.0   3.0        1\n",
      "3      10.0  16.0        2\n",
      "4      20.0  30.0        1\n",
      "5      10.0   3.0        1\n",
      "6      15.0  10.0        3\n",
      "7       0.0   0.0        0\n",
      "Before WebSockets Connection\n",
      "Made it here\n",
      "Recieved message:  Connection Successful\n",
      "Last_recieved_Message Connection Successful\n",
      "Recieved message:  Connection Made\n",
      "Last_recieved_Message Connection Made\n",
      "Recieved message:  Analog Voltage: 0.7430000000000001\n",
      "Last_recieved_Message Analog Voltage: 0.7430000000000001\n"
     ]
    }
   ],
   "source": [
    "# %load interface.py\n",
    "#This file contains the notebook interface script\n",
    "\n",
    "import pandas as pd\n",
    "import matplotlib.pyplot as plt\n",
    "import time\n",
    "import math\n",
    "from SocketsCreator import CreateClient\n",
    "from SocketsCreator import PyClient\n",
    "import time\n",
    "\n",
    "\n",
    "#Read Datapoints from CSV\n",
    "\n",
    "csv_path = \"/Users/alexlerikos/Desktop/python/SeniorDesign/Senior_Design/IPython_Interface/SampleInput.csv\"\n",
    "\n",
    "\n",
    "InputDF = pd.DataFrame.from_csv(csv_path)\n",
    "\n",
    "print InputDF\n",
    "\n",
    "#beagleBone Connection\n",
    "\n",
    "webSocket = CreateClient()\n",
    "time.sleep(1)\n"
   ]
  },
  {
   "cell_type": "code",
   "execution_count": null,
   "metadata": {
    "collapsed": false
   },
   "outputs": [
    {
     "name": "stdout",
     "output_type": "stream",
     "text": [
      "X    4\n",
      "Name: 0, dtype: float64\n",
      "Y    5\n",
      "Name: 0, dtype: float64\n",
      "ReadAnalog(4.000000,5.000000)\n",
      "Sending message: ReadAnalog(4.000000,5.000000)\n",
      "Recieved message:  ReadAnalog BB Voltage : 0.748\n",
      "Last_recieved_Message ReadAnalog BB Voltage : 0.748\n",
      "SocketsCreator Message: ReadAnalog BB Voltage : 0.748\n",
      "IPython message =  ReadAnalog BB Voltage : 0.748\n",
      "X    6.8\n",
      "Name: 1, dtype: float64"
     ]
    }
   ],
   "source": [
    "time.sleep(1)\n",
    "\n",
    "#Batch Test\n",
    "\n",
    "for i in range(0,len(InputDF.index)):\n",
    "    print InputDF[['X']].ix[i]\n",
    "    print InputDF[['Y']].ix[i]\n",
    "    XC = InputDF[['X']].ix[i]\n",
    "    YC = InputDF[['Y']].ix[i]\n",
    "    \n",
    "    \n",
    "    ReadAnalogString = \"ReadAnalog(%f,%f)\" % (XC,YC)\n",
    "    print ReadAnalogString\n",
    "    \n",
    "    Message = webSocket.response(ReadAnalogString)\n",
    "    \n",
    "    print \"IPython message = \", Message\n",
    "    \n",
    "    time.sleep(1)\n",
    "    \n"
   ]
  },
  {
   "cell_type": "code",
   "execution_count": 2,
   "metadata": {
    "collapsed": false
   },
   "outputs": [
    {
     "name": "stdout",
     "output_type": "stream",
     "text": [
      "Sending message: ReadAnalog(10.0,11.0)\n",
      "Recieved message: SocketsCreator Message: Analog Voltage: 0.747 ReadAnalog BB Voltage : 0.747\n",
      "Last_recieved_Message ReadAnalog BB Voltage : 0.747\n",
      "\n",
      "Ipython message =  ReadAnalog BB Voltage : 0.747\n"
     ]
    }
   ],
   "source": [
    "#Sample message: API Format \"ReadAnalog(double x, double y)\"\n",
    "#ResponseString = \"ReadAnalog({1},{2})\".format(InputDF[)\n",
    "time.sleep(1)\n",
    "Message = webSocket.response(\"ReadAnalog(10.0,11.0)\")\n",
    "# time.sleep(2)\n",
    "print \"Ipython message = \",Message\n"
   ]
  },
  {
   "cell_type": "code",
   "execution_count": null,
   "metadata": {
    "collapsed": true
   },
   "outputs": [],
   "source": []
  },
  {
   "cell_type": "code",
   "execution_count": null,
   "metadata": {
    "collapsed": true
   },
   "outputs": [],
   "source": []
  }
 ],
 "metadata": {
  "kernelspec": {
   "display_name": "Python 2",
   "language": "python",
   "name": "python2"
  },
  "language_info": {
   "codemirror_mode": {
    "name": "ipython",
    "version": 2
   },
   "file_extension": ".py",
   "mimetype": "text/x-python",
   "name": "python",
   "nbconvert_exporter": "python",
   "pygments_lexer": "ipython2",
   "version": "2.7.9"
  }
 },
 "nbformat": 4,
 "nbformat_minor": 0
}
