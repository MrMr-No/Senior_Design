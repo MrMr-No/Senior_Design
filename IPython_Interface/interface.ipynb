{
 "cells": [
  {
   "cell_type": "code",
   "execution_count": 1,
   "metadata": {
    "collapsed": false,
    "scrolled": true
   },
   "outputs": [
    {
     "name": "stdout",
     "output_type": "stream",
     "text": [
      "         X    Y\n",
      "Index          \n",
      "0      150  150\n",
      "1      100  100\n",
      "2      150  150\n",
      "3      100  100\n",
      "4      150  150\n",
      "5      100  100\n",
      "6      150  150\n",
      "7      100  100\n",
      "8      150  150\n",
      "9      100  100\n",
      "Before WebSockets Connection\n",
      "Made it here\n",
      "Recieved message:  Connection Successful\n",
      "Last_recieved_Message Connection Successful\n",
      "Recieved message:  Connection Made\n",
      "Last_recieved_Message Connection Made\n"
     ]
    }
   ],
   "source": [
    "# %load interface.py\n",
    "#This file contains the notebook interface script\n",
    "\n",
    "import pandas as pd\n",
    "import matplotlib.pyplot as plt\n",
    "import time\n",
    "import math\n",
    "from SocketsCreator import CreateClient\n",
    "from SocketsCreator import PyClient\n",
    "import time\n",
    "\n",
    "\n",
    "#Read Datapoints from CSV\n",
    "\n",
    "csv_path = \"/Users/alexlerikos/Desktop/python/SeniorDesign/Senior_Design/IPython_Interface/SampleInput.csv\"\n",
    "\n",
    "\n",
    "InputDF = pd.DataFrame.from_csv(csv_path)\n",
    "OutputDF = pd.DataFrame(columns=['Analog Voltage'])\n",
    "OutputDF\n",
    "\n",
    "print InputDF\n",
    "\n",
    "#beagleBone Connection\n",
    "\n",
    "webSocket = CreateClient()\n",
    "time.sleep(1)\n"
   ]
  },
  {
   "cell_type": "code",
   "execution_count": 7,
   "metadata": {
    "collapsed": false
   },
   "outputs": [
    {
     "name": "stdout",
     "output_type": "stream",
     "text": [
      "X    150\n",
      "Name: 0, dtype: int64\n",
      "Y    150\n",
      "Name: 0, dtype: int64\n",
      "ReadAnalog(150.000000,150.000000)\n",
      "Sending message: ReadAnalog(150.000000,150.000000)\n",
      "Recieved message: SocketsCreator Message: 0.446 0.443\n",
      "Last_recieved_Message 0.443\n",
      "\n",
      "IPython message =  0.443\n",
      "X    100\n",
      "Name: 1, dtype: int64\n",
      "Y    100\n",
      "Name: 1, dtype: int64\n",
      "ReadAnalog(100.000000,100.000000)\n",
      "Sending message: ReadAnalog(100.000000,100.000000)\n",
      "Recieved message:  0.442\n",
      "Last_recieved_Message 0.442\n",
      "SocketsCreator Message: 0.442\n",
      "IPython message =  0.442\n",
      "X    150\n",
      "Name: 2, dtype: int64\n",
      "Y    150\n",
      "Name: 2, dtype: int64\n",
      "ReadAnalog(150.000000,150.000000)\n",
      "Sending message: ReadAnalog(150.000000,150.000000)\n",
      "Recieved message:  SocketsCreator Message: 0.4420.444\n",
      "Last_recieved_Message 0.444\n",
      "\n",
      "IPython message =  0.444\n",
      "X    100\n",
      "Name: 3, dtype: int64\n",
      "Y    100\n",
      "Name: 3, dtype: int64\n",
      "ReadAnalog(100.000000,100.000000)\n",
      "Sending message: ReadAnalog(100.000000,100.000000)\n",
      "Recieved message:  0.441\n",
      "Last_recieved_Message 0.441\n",
      "SocketsCreator Message: 0.441\n",
      "IPython message =  0.441\n",
      "X    150\n",
      "Name: 4, dtype: int64\n",
      "Y    150\n",
      "Name: 4, dtype: int64\n",
      "ReadAnalog(150.000000,150.000000)\n",
      "Sending message: ReadAnalog(150.000000,150.000000)\n",
      "Recieved message:  0.441\n",
      "Last_recieved_Message 0.441\n",
      "SocketsCreator Message: 0.441\n",
      "IPython message =  0.441\n",
      "X    100\n",
      "Name: 5, dtype: int64\n",
      "Y    100\n",
      "Name: 5, dtype: int64\n",
      "ReadAnalog(100.000000,100.000000)\n",
      "Sending message: ReadAnalog(100.000000,100.000000)\n",
      "Recieved message:  0.439\n",
      "Last_recieved_Message 0.439\n",
      "SocketsCreator Message: 0.439\n",
      "IPython message =  0.439\n",
      "X    150\n",
      "Name: 6, dtype: int64\n",
      "Y    150\n",
      "Name: 6, dtype: int64\n",
      "ReadAnalog(150.000000,150.000000)\n",
      "Sending message: ReadAnalog(150.000000,150.000000)\n",
      "Recieved message:  0.441\n",
      "Last_recieved_Message 0.441\n",
      "SocketsCreator Message: 0.441\n",
      "IPython message =  0.441\n",
      "X    100\n",
      "Name: 7, dtype: int64\n",
      "Y    100\n",
      "Name: 7, dtype: int64\n",
      "ReadAnalog(100.000000,100.000000)\n",
      "Sending message: ReadAnalog(100.000000,100.000000)\n",
      "Recieved message:  SocketsCreator Message: 0.4410.442\n",
      "Last_recieved_Message 0.442\n",
      "\n",
      "IPython message =  0.442\n",
      "X    150\n",
      "Name: 8, dtype: int64\n",
      "Y    150\n",
      "Name: 8, dtype: int64\n",
      "ReadAnalog(150.000000,150.000000)\n",
      "Sending message: ReadAnalog(150.000000,150.000000)\n",
      "Recieved message:  0.443\n",
      "Last_recieved_Message 0.443\n",
      "SocketsCreator Message: 0.443\n",
      "IPython message =  0.443\n",
      "X    100\n",
      "Name: 9, dtype: int64\n",
      "Y    100\n",
      "Name: 9, dtype: int64\n",
      "ReadAnalog(100.000000,100.000000)\n",
      "Sending message: ReadAnalog(100.000000,100.000000)\n",
      "Recieved message:  0.441\n",
      "Last_recieved_Message 0.441\n",
      " SocketsCreator Message: 0.441\n",
      "IPython message =  0.441\n",
      "End of Batch\n"
     ]
    }
   ],
   "source": [
    "time.sleep(1)\n",
    "\n",
    "#Batch Test\n",
    "\n",
    "for i in range(0,len(InputDF.index)):\n",
    "    print InputDF[['X']].ix[i]\n",
    "    print InputDF[['Y']].ix[i]\n",
    "    XC = InputDF[['X']].ix[i]\n",
    "    YC = InputDF[['Y']].ix[i]\n",
    "    \n",
    "    \n",
    "    ReadAnalogString = \"ReadAnalog(%f,%f)\" % (XC,YC)\n",
    "    print ReadAnalogString\n",
    "    \n",
    "    Message = webSocket.response(ReadAnalogString)\n",
    "    \n",
    "    print \"IPython message = \", Message\n",
    "    OutputDF.loc[i] = Message\n",
    "    time.sleep(1)\n",
    "    \n",
    "\n",
    "print \"End of Batch\""
   ]
  },
  {
   "cell_type": "markdown",
   "metadata": {
    "collapsed": false,
    "scrolled": true
   },
   "source": [
    "OutputDF"
   ]
  },
  {
   "cell_type": "code",
   "execution_count": 8,
   "metadata": {
    "collapsed": false,
    "scrolled": true
   },
   "outputs": [
    {
     "data": {
      "text/html": [
       "<div style=\"max-height:1000px;max-width:1500px;overflow:auto;\">\n",
       "<table border=\"1\" class=\"dataframe\">\n",
       "  <thead>\n",
       "    <tr style=\"text-align: right;\">\n",
       "      <th></th>\n",
       "      <th>Analog Voltage</th>\n",
       "    </tr>\n",
       "  </thead>\n",
       "  <tbody>\n",
       "    <tr>\n",
       "      <th>0</th>\n",
       "      <td> 0.443</td>\n",
       "    </tr>\n",
       "    <tr>\n",
       "      <th>1</th>\n",
       "      <td> 0.442</td>\n",
       "    </tr>\n",
       "    <tr>\n",
       "      <th>2</th>\n",
       "      <td> 0.444</td>\n",
       "    </tr>\n",
       "    <tr>\n",
       "      <th>3</th>\n",
       "      <td> 0.441</td>\n",
       "    </tr>\n",
       "    <tr>\n",
       "      <th>4</th>\n",
       "      <td> 0.441</td>\n",
       "    </tr>\n",
       "    <tr>\n",
       "      <th>5</th>\n",
       "      <td> 0.439</td>\n",
       "    </tr>\n",
       "    <tr>\n",
       "      <th>6</th>\n",
       "      <td> 0.441</td>\n",
       "    </tr>\n",
       "    <tr>\n",
       "      <th>7</th>\n",
       "      <td> 0.442</td>\n",
       "    </tr>\n",
       "    <tr>\n",
       "      <th>8</th>\n",
       "      <td> 0.443</td>\n",
       "    </tr>\n",
       "    <tr>\n",
       "      <th>9</th>\n",
       "      <td> 0.441</td>\n",
       "    </tr>\n",
       "  </tbody>\n",
       "</table>\n",
       "</div>"
      ],
      "text/plain": [
       "  Analog Voltage\n",
       "0          0.443\n",
       "1          0.442\n",
       "2          0.444\n",
       "3          0.441\n",
       "4          0.441\n",
       "5          0.439\n",
       "6          0.441\n",
       "7          0.442\n",
       "8          0.443\n",
       "9          0.441"
      ]
     },
     "execution_count": 8,
     "metadata": {},
     "output_type": "execute_result"
    }
   ],
   "source": [
    "OutputDF"
   ]
  },
  {
   "cell_type": "code",
   "execution_count": 36,
   "metadata": {
    "collapsed": false,
    "scrolled": true
   },
   "outputs": [],
   "source": [
    "OutputDF.to_csv('Output_Analog_Voltage.csv')"
   ]
  },
  {
   "cell_type": "code",
   "execution_count": 37,
   "metadata": {
    "collapsed": false
   },
   "outputs": [],
   "source": [
    "webSocket.send(\"Move_X(10.0)\")"
   ]
  },
  {
   "cell_type": "code",
   "execution_count": 12,
   "metadata": {
    "collapsed": false
   },
   "outputs": [
    {
     "name": "stdout",
     "output_type": "stream",
     "text": [
      "Recieved message:  Analog Voltage: 0.444\n",
      "Last_recieved_Message Analog Voltage: 0.444\n"
     ]
    }
   ],
   "source": [
    "webSocket.send(\"Move_Y(10.0)\")"
   ]
  },
  {
   "cell_type": "code",
   "execution_count": 5,
   "metadata": {
    "collapsed": false
   },
   "outputs": [
    {
     "name": "stdout",
     "output_type": "stream",
     "text": [
      "Sending message: ReturnAnalog()\n",
      "Recieved message:  0.442\n",
      "Last_recieved_Message 0.442\n",
      "SocketsCreator Message: 0.442\n"
     ]
    },
    {
     "data": {
      "text/plain": [
       "u'0.442'"
      ]
     },
     "execution_count": 5,
     "metadata": {},
     "output_type": "execute_result"
    }
   ],
   "source": [
    "Analog = webSocket.response(\"ReturnAnalog()\")\n",
    "\n",
    "#Display Analog\n",
    "Analog"
   ]
  },
  {
   "cell_type": "code",
   "execution_count": 20,
   "metadata": {
    "collapsed": false
   },
   "outputs": [
    {
     "name": "stdout",
     "output_type": "stream",
     "text": [
      "Sending message: ReadAnalog(0.0,0.0)\n",
      "Recieved message:  ReadAnalog BB Voltage : 0.445\n",
      "Last_recieved_Message ReadAnalog BB Voltage : 0.445\n",
      "SocketsCreator Message: ReadAnalog BB Voltage : 0.445\n",
      "Ipython message =  ReadAnalog BB Voltage : 0.445\n"
     ]
    }
   ],
   "source": [
    "#Sample message: API Format \"ReadAnalog(double x, double y)\"\n",
    "#ResponseString = \"ReadAnalog({1},{2})\".format(InputDF[)\n",
    "time.sleep(1)\n",
    "Message = webSocket.response(\"ReadAnalog(0.0,0.0)\")\n",
    "# time.sleep(2)\n",
    "print \"Ipython message = \",Message\n"
   ]
  }
 ],
 "metadata": {
  "kernelspec": {
   "display_name": "Python 2",
   "language": "python",
   "name": "python2"
  },
  "language_info": {
   "codemirror_mode": {
    "name": "ipython",
    "version": 2
   },
   "file_extension": ".py",
   "mimetype": "text/x-python",
   "name": "python",
   "nbconvert_exporter": "python",
   "pygments_lexer": "ipython2",
   "version": "2.7.9"
  }
 },
 "nbformat": 4,
 "nbformat_minor": 0
}
