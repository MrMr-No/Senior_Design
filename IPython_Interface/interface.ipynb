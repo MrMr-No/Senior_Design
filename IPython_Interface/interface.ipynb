{
 "cells": [
  {
   "cell_type": "code",
   "execution_count": 1,
   "metadata": {
    "collapsed": false,
    "scrolled": true
   },
   "outputs": [
    {
     "name": "stdout",
     "output_type": "stream",
     "text": [
      "          X     Y  Delta T\n",
      "Index                     \n",
      "0       4.0   5.0        2\n",
      "1       6.8   9.2        1\n",
      "2       0.0   3.0        1\n",
      "3      10.0  16.0        2\n",
      "4      20.0  30.0        1\n",
      "5      10.0   3.0        1\n",
      "6      15.0  10.0        3\n",
      "7       0.0   0.0        0\n",
      "Before WebSockets Connection\n",
      "Made it here\n",
      "Recieved message:  Connection Successful\n",
      "Last_recieved_Message Connection Successful\n",
      "Recieved message:  Connection Made\n",
      "Last_recieved_Message Connection Made\n",
      "Recieved message:  Analog Voltage: 0.746\n",
      "Last_recieved_Message Analog Voltage: 0.746\n"
     ]
    }
   ],
   "source": [
    "# %load interface.py\n",
    "#This file contains the notebook interface script\n",
    "\n",
    "import pandas as pd\n",
    "import matplotlib.pyplot as plt\n",
    "import time\n",
    "import math\n",
    "from SocketsCreator import CreateClient\n",
    "from SocketsCreator import PyClient\n",
    "import time\n",
    "\n",
    "\n",
    "#Read Datapoints from CSV\n",
    "\n",
    "csv_path = \"/Users/alexlerikos/Desktop/python/SeniorDesign/Senior_Design/IPython_Interface/SampleInput.csv\"\n",
    "\n",
    "\n",
    "InputDF = pd.DataFrame.from_csv(csv_path)\n",
    "OutputDF = pd.DataFrame(columns=['Analog Voltage'])\n",
    "OutputDF\n",
    "\n",
    "print InputDF\n",
    "\n",
    "#beagleBone Connection\n",
    "\n",
    "webSocket = CreateClient()\n",
    "time.sleep(1)\n"
   ]
  },
  {
   "cell_type": "code",
   "execution_count": 2,
   "metadata": {
    "collapsed": false
   },
   "outputs": [
    {
     "name": "stdout",
     "output_type": "stream",
     "text": [
      "X    4\n",
      "Name: 0, dtype: float64\n",
      "Y    5\n",
      "Name: 0, dtype: float64\n",
      "ReadAnalog(4.000000,5.000000)\n",
      "Sending message: ReadAnalog(4.000000,5.000000)\n",
      "Recieved message: SocketsCreator Message: Analog Voltage: 0.746 ReadAnalog BB Voltage : 0.747\n",
      "Last_recieved_Message ReadAnalog BB Voltage : 0.747\n",
      "\n",
      "IPython message =  ReadAnalog BB Voltage : 0.747\n",
      "X    6.8\n",
      "Name: 1, dtype: float64\n",
      "Y    9.2\n",
      "Name: 1, dtype: float64\n",
      "ReadAnalog(6.800000,9.200000)\n",
      "Sending message: ReadAnalog(6.800000,9.200000)\n",
      "Recieved message:  ReadAnalog BB Voltage : 0.747\n",
      "Last_recieved_Message ReadAnalog BB Voltage : 0.747\n",
      "SocketsCreator Message: ReadAnalog BB Voltage : 0.747\n",
      "IPython message =  ReadAnalog BB Voltage : 0.747\n",
      "X    0\n",
      "Name: 2, dtype: float64\n",
      "Y    3\n",
      "Name: 2, dtype: float64\n",
      "ReadAnalog(0.000000,3.000000)\n",
      "Sending message: ReadAnalog(0.000000,3.000000)\n",
      "Recieved message:  ReadAnalog BB Voltage : 0.747\n",
      "Last_recieved_Message ReadAnalog BB Voltage : 0.747\n",
      "SocketsCreator Message: ReadAnalog BB Voltage : 0.747\n",
      "IPython message =  ReadAnalog BB Voltage : 0.747\n",
      "X    10\n",
      "Name: 3, dtype: float64\n",
      "Y    16\n",
      "Name: 3, dtype: float64\n",
      "ReadAnalog(10.000000,16.000000)\n",
      "Sending message: ReadAnalog(10.000000,16.000000)\n"
     ]
    },
    {
     "ename": "KeyboardInterrupt",
     "evalue": "",
     "output_type": "error",
     "traceback": [
      "\u001b[0;31m---------------------------------------------------------------------------\u001b[0m",
      "\u001b[0;31mKeyboardInterrupt\u001b[0m                         Traceback (most recent call last)",
      "\u001b[0;32m<ipython-input-2-019181765087>\u001b[0m in \u001b[0;36m<module>\u001b[0;34m()\u001b[0m\n\u001b[1;32m     13\u001b[0m     \u001b[0;32mprint\u001b[0m \u001b[0mReadAnalogString\u001b[0m\u001b[0;34m\u001b[0m\u001b[0m\n\u001b[1;32m     14\u001b[0m \u001b[0;34m\u001b[0m\u001b[0m\n\u001b[0;32m---> 15\u001b[0;31m     \u001b[0mMessage\u001b[0m \u001b[0;34m=\u001b[0m \u001b[0mwebSocket\u001b[0m\u001b[0;34m.\u001b[0m\u001b[0mresponse\u001b[0m\u001b[0;34m(\u001b[0m\u001b[0mReadAnalogString\u001b[0m\u001b[0;34m)\u001b[0m\u001b[0;34m\u001b[0m\u001b[0m\n\u001b[0m\u001b[1;32m     16\u001b[0m \u001b[0;34m\u001b[0m\u001b[0m\n\u001b[1;32m     17\u001b[0m     \u001b[0;32mprint\u001b[0m \u001b[0;34m\"IPython message = \"\u001b[0m\u001b[0;34m,\u001b[0m \u001b[0mMessage\u001b[0m\u001b[0;34m\u001b[0m\u001b[0m\n",
      "\u001b[0;32m/Users/alexlerikos/Desktop/python/SeniorDesign/Senior_Design/IPython_Interface/SocketsCreator.pyc\u001b[0m in \u001b[0;36mresponse\u001b[0;34m(self, message)\u001b[0m\n\u001b[1;32m     58\u001b[0m             \u001b[0;31m# timer = time.clock() - send_time\u001b[0m\u001b[0;34m\u001b[0m\u001b[0;34m\u001b[0m\u001b[0m\n\u001b[1;32m     59\u001b[0m             \u001b[0;31m# print timer'\u001b[0m\u001b[0;34m\u001b[0m\u001b[0;34m\u001b[0m\u001b[0m\n\u001b[0;32m---> 60\u001b[0;31m             \u001b[0mtimer\u001b[0m \u001b[0;34m=\u001b[0m \u001b[0mtime\u001b[0m\u001b[0;34m.\u001b[0m\u001b[0mtime\u001b[0m\u001b[0;34m(\u001b[0m\u001b[0;34m)\u001b[0m \u001b[0;34m-\u001b[0m \u001b[0msend_time\u001b[0m\u001b[0;34m\u001b[0m\u001b[0m\n\u001b[0m\u001b[1;32m     61\u001b[0m \u001b[0;34m\u001b[0m\u001b[0m\n\u001b[1;32m     62\u001b[0m         \u001b[0;31m# if self.waiting_for_response == True:\u001b[0m\u001b[0;34m\u001b[0m\u001b[0;34m\u001b[0m\u001b[0m\n",
      "\u001b[0;31mKeyboardInterrupt\u001b[0m: "
     ]
    }
   ],
   "source": [
    "time.sleep(1)\n",
    "\n",
    "#Batch Test\n",
    "\n",
    "for i in range(0,len(InputDF.index)):\n",
    "    print InputDF[['X']].ix[i]\n",
    "    print InputDF[['Y']].ix[i]\n",
    "    XC = InputDF[['X']].ix[i]\n",
    "    YC = InputDF[['Y']].ix[i]\n",
    "    \n",
    "    \n",
    "    ReadAnalogString = \"ReadAnalog(%f,%f)\" % (XC,YC)\n",
    "    print ReadAnalogString\n",
    "    \n",
    "    Message = webSocket.response(ReadAnalogString)\n",
    "    \n",
    "    print \"IPython message = \", Message\n",
    "    OutputDF.loc[i] = Message\n",
    "    time.sleep(1)\n",
    "    \n"
   ]
  },
  {
   "cell_type": "code",
   "execution_count": 3,
   "metadata": {
    "collapsed": false,
    "scrolled": true
   },
   "outputs": [
    {
     "data": {
      "text/html": [
       "<div style=\"max-height:1000px;max-width:1500px;overflow:auto;\">\n",
       "<table border=\"1\" class=\"dataframe\">\n",
       "  <thead>\n",
       "    <tr style=\"text-align: right;\">\n",
       "      <th></th>\n",
       "      <th>Analog Voltage</th>\n",
       "    </tr>\n",
       "  </thead>\n",
       "  <tbody>\n",
       "    <tr>\n",
       "      <th>0</th>\n",
       "      <td> ReadAnalog BB Voltage : 0.747</td>\n",
       "    </tr>\n",
       "    <tr>\n",
       "      <th>1</th>\n",
       "      <td> ReadAnalog BB Voltage : 0.747</td>\n",
       "    </tr>\n",
       "    <tr>\n",
       "      <th>2</th>\n",
       "      <td> ReadAnalog BB Voltage : 0.747</td>\n",
       "    </tr>\n",
       "  </tbody>\n",
       "</table>\n",
       "</div>"
      ],
      "text/plain": [
       "                  Analog Voltage\n",
       "0  ReadAnalog BB Voltage : 0.747\n",
       "1  ReadAnalog BB Voltage : 0.747\n",
       "2  ReadAnalog BB Voltage : 0.747"
      ]
     },
     "execution_count": 3,
     "metadata": {},
     "output_type": "execute_result"
    }
   ],
   "source": [
    "OutputDF"
   ]
  },
  {
   "cell_type": "code",
   "execution_count": 5,
   "metadata": {
    "collapsed": false,
    "scrolled": true
   },
   "outputs": [],
   "source": [
    "OutputDF.to_csv('Output_Analog_Voltage.csv')"
   ]
  },
  {
   "cell_type": "code",
   "execution_count": 2,
   "metadata": {
    "collapsed": false
   },
   "outputs": [
    {
     "name": "stdout",
     "output_type": "stream",
     "text": [
      "Sending message: ReadAnalog(10.0,11.0)\n",
      "Recieved message: SocketsCreator Message: Analog Voltage: 0.747 ReadAnalog BB Voltage : 0.747\n",
      "Last_recieved_Message ReadAnalog BB Voltage : 0.747\n",
      "\n",
      "Ipython message =  ReadAnalog BB Voltage : 0.747\n"
     ]
    }
   ],
   "source": [
    "#Sample message: API Format \"ReadAnalog(double x, double y)\"\n",
    "#ResponseString = \"ReadAnalog({1},{2})\".format(InputDF[)\n",
    "time.sleep(1)\n",
    "Message = webSocket.response(\"ReadAnalog(10.0,11.0)\")\n",
    "# time.sleep(2)\n",
    "print \"Ipython message = \",Message\n"
   ]
  }
 ],
 "metadata": {
  "kernelspec": {
   "display_name": "Python 2",
   "language": "python",
   "name": "python2"
  },
  "language_info": {
   "codemirror_mode": {
    "name": "ipython",
    "version": 2
   },
   "file_extension": ".py",
   "mimetype": "text/x-python",
   "name": "python",
   "nbconvert_exporter": "python",
   "pygments_lexer": "ipython2",
   "version": "2.7.9"
  }
 },
 "nbformat": 4,
 "nbformat_minor": 0
}
