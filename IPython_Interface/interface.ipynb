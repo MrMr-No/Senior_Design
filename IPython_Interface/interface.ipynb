{
 "cells": [
  {
   "cell_type": "code",
   "execution_count": 6,
   "metadata": {
    "collapsed": false,
    "scrolled": true
   },
   "outputs": [
    {
     "name": "stdout",
     "output_type": "stream",
     "text": [
      "         X    Y\n",
      "Index          \n",
      "0      150  150\n",
      "1      100  100\n",
      "2      150  150\n",
      "3      100  100\n",
      "4      150  150\n",
      "5      100  100\n",
      "6      150  150\n",
      "7      100  100\n",
      "8      150  150\n",
      "9      100  100\n",
      "Before WebSockets Connection\n",
      "Made it here\n",
      "Recieved message:  Connection Successful\n",
      "Last_recieved_Message Connection Successful\n",
      "Recieved message:  Connection Made\n",
      "Last_recieved_Message Connection Made\n",
      "Recieved message:  Analog Voltage: 0.45299999999999996\n",
      "Last_recieved_Message Analog Voltage: 0.45299999999999996\n"
     ]
    }
   ],
   "source": [
    "# %load interface.py\n",
    "#This file contains the notebook interface script\n",
    "\n",
    "import pandas as pd\n",
    "import matplotlib.pyplot as plt\n",
    "import time\n",
    "import math\n",
    "from SocketsCreator import CreateClient\n",
    "from SocketsCreator import PyClient\n",
    "import time\n",
    "\n",
    "#Experiment Constants\n",
    "ambientPressure = 100000 #Pa\n",
    "ambientTemperature = 298.1 #K\n",
    "R = 8.31445 #m3 Pa K−1 mol−1\n",
    "ambientDensity = ambientPressure/R*ambientTemperature\n",
    "\n",
    "#Width of airfoil at largest point\n",
    "width_of_airfoil = 30 #cm\n",
    "\n",
    "#Add measured freestream airspeed\n",
    "free_stream_Airspeed = 5 # m/s \n",
    "\n",
    "#Sensor Calibration\n",
    "Voff = 0.452 #V\n",
    "Vsense = 0.0006 #V/Pa\n",
    "\n",
    "\n",
    "\n",
    "#Read Datapoints from CSV\n",
    "\n",
    "csv_path = \"/Users/alexlerikos/Desktop/python/SeniorDesign/Senior_Design/IPython_Interface/SampleInput.csv\"\n",
    "\n",
    "\n",
    "InputDF = pd.DataFrame.from_csv(csv_path)\n",
    "OutputDF = pd.DataFrame(columns=['X','Y','Analog Voltage Output (V)', 'Measured Airspeed (m/s)'])\n",
    "\n",
    "print InputDF\n",
    "\n",
    "#beagleBone Connection\n",
    "\n",
    "webSocket = CreateClient()\n",
    "time.sleep(1)\n"
   ]
  },
  {
   "cell_type": "code",
   "execution_count": 8,
   "metadata": {
    "collapsed": false
   },
   "outputs": [
    {
     "name": "stdout",
     "output_type": "stream",
     "text": [
      "X    150\n",
      "Name: 0, dtype: int64\n",
      "Y    150\n",
      "Name: 0, dtype: int64\n",
      "ReadAnalog(150.000000,150.000000)\n",
      "Sending message: ReadAnalog(150.000000,150.000000)\n",
      "Recieved message: SocketsCreator Message: Analog Voltage: 0.45299999999999996 0.452\n",
      "Last_recieved_Message 0.452\n",
      "\n",
      "IPython message =  0.452\n",
      "0\n",
      "X    100\n",
      "Name: 1, dtype: int64\n",
      "Y    100\n",
      "Name: 1, dtype: int64\n",
      "ReadAnalog(100.000000,100.000000)\n",
      "Sending message: ReadAnalog(100.000000,100.000000)\n",
      "Recieved message:  0.45299999999999996\n",
      "Last_recieved_Message 0.45299999999999996\n",
      "SocketsCreator Message: 0.45299999999999996\n",
      "IPython message =  0.45299999999999996\n",
      "0.000964217806814\n",
      "X    150\n",
      "Name: 2, dtype: int64\n",
      "Y    150\n",
      "Name: 2, dtype: int64\n",
      "ReadAnalog(150.000000,150.000000)\n",
      "Sending message: ReadAnalog(150.000000,150.000000)\n",
      "Recieved message:  SocketsCreator Message: 0.452999999999999960.45600000000000007\n",
      "Last_recieved_Message 0.45600000000000007\n",
      "\n",
      "IPython message =  0.45600000000000007\n",
      "0.00192843561363\n",
      "X    100\n",
      "Name: 3, dtype: int64\n",
      "Y    100\n",
      "Name: 3, dtype: int64\n",
      "ReadAnalog(100.000000,100.000000)\n",
      "Sending message: ReadAnalog(100.000000,100.000000)\n",
      "Recieved message:  0.45299999999999996\n",
      "Last_recieved_Message 0.45299999999999996\n",
      "SocketsCreator Message: 0.45299999999999996\n",
      "IPython message =  0.45299999999999996\n",
      "0.000964217806814\n",
      "X    150\n",
      "Name: 4, dtype: int64\n",
      "Y    150\n",
      "Name: 4, dtype: int64\n",
      "ReadAnalog(150.000000,150.000000)\n",
      "Sending message: ReadAnalog(150.000000,150.000000)\n",
      "Recieved message:  0.452\n",
      "Last_recieved_Message 0.452\n",
      "SocketsCreator Message: 0.452\n",
      "IPython message =  0.452\n",
      "0\n",
      "X    100\n",
      "Name: 5, dtype: int64\n",
      "Y    100\n",
      "Name: 5, dtype: int64\n",
      "ReadAnalog(100.000000,100.000000)\n",
      "Sending message: ReadAnalog(100.000000,100.000000)\n",
      "Recieved message:  0.45299999999999996\n",
      "Last_recieved_Message 0.45299999999999996\n",
      "SocketsCreator Message: 0.45299999999999996\n",
      "IPython message =  0.45299999999999996\n",
      "0.000964217806814\n",
      "X    150\n",
      "Name: 6, dtype: int64\n",
      "Y    150\n",
      "Name: 6, dtype: int64\n",
      "ReadAnalog(150.000000,150.000000)\n",
      "Sending message: ReadAnalog(150.000000,150.000000)\n",
      "Recieved message:  0.455\n",
      "Last_recieved_Message 0.455\n",
      "SocketsCreator Message: 0.455\n",
      "IPython message =  0.455\n",
      "0.00167007423097\n",
      "X    100\n",
      "Name: 7, dtype: int64\n",
      "Y    100\n",
      "Name: 7, dtype: int64\n",
      "ReadAnalog(100.000000,100.000000)\n",
      "Sending message: ReadAnalog(100.000000,100.000000)\n",
      "Recieved message:  0.455\n",
      "Last_recieved_Message 0.455\n",
      "SocketsCreator Message: 0.455\n",
      "IPython message =  0.455\n",
      "0.00167007423097\n",
      "X    150\n",
      "Name: 8, dtype: int64\n",
      "Y    150\n",
      "Name: 8, dtype: int64\n",
      "ReadAnalog(150.000000,150.000000)\n",
      "Sending message: ReadAnalog(150.000000,150.000000)\n",
      "Recieved message:  0.452\n",
      "Last_recieved_Message 0.452\n",
      "SocketsCreator Message: 0.452\n",
      "IPython message =  0.452\n",
      "0\n",
      "X    100\n",
      "Name: 9, dtype: int64\n",
      "Y    100\n",
      "Name: 9, dtype: int64\n",
      "ReadAnalog(100.000000,100.000000)\n",
      "Sending message: ReadAnalog(100.000000,100.000000)\n",
      "Recieved message:  0.45299999999999996\n",
      "Last_recieved_Message 0.45299999999999996\n",
      "SocketsCreator Message: 0.45299999999999996\n",
      "IPython message =  0.45299999999999996\n",
      "0.000964217806814\n",
      "End of Batch\n"
     ]
    }
   ],
   "source": [
    "time.sleep(1)\n",
    "\n",
    "#Batch Test\n",
    "\n",
    "for i in range(0,len(InputDF.index)):\n",
    "    print InputDF[['X']].ix[i]\n",
    "    print InputDF[['Y']].ix[i]\n",
    "    XC = InputDF[['X']].ix[i]\n",
    "    YC = InputDF[['Y']].ix[i]\n",
    "    \n",
    "    \n",
    "    ReadAnalogString = \"ReadAnalog(%f,%f)\" % (XC,YC)\n",
    "    print ReadAnalogString\n",
    "    \n",
    "    Message = webSocket.response(ReadAnalogString)\n",
    "    \n",
    "    print \"IPython message = \", Message\n",
    "    OutputDF.loc[i] = Message\n",
    "    \n",
    "    #Calculate Airspeed\n",
    "    #------------------\n",
    "    \n",
    "    #output pressure\n",
    "    outputPressure = (float(Message) - Voff)/Vsense  # Pa\n",
    "    #output Airspeed\n",
    "    if outputPressure > 0:\n",
    "        Vair = math.sqrt(2 * outputPressure/ambientDensity) #m/s\n",
    "    else:\n",
    "        Vair = 0\n",
    "    print Vair\n",
    "    \n",
    "    \n",
    "    #Add data to Dataframe\n",
    "    OutputDF.loc[i] = [float(XC),float(YC),Message,Vair]\n",
    "    time.sleep(1)\n",
    "    \n",
    "\n",
    "print \"End of Batch\""
   ]
  },
  {
   "cell_type": "markdown",
   "metadata": {
    "collapsed": false,
    "scrolled": true
   },
   "source": [
    "OutputDF"
   ]
  },
  {
   "cell_type": "code",
   "execution_count": 7,
   "metadata": {
    "collapsed": false,
    "scrolled": true
   },
   "outputs": [
    {
     "data": {
      "text/html": [
       "<div style=\"max-height:1000px;max-width:1500px;overflow:auto;\">\n",
       "<table border=\"1\" class=\"dataframe\">\n",
       "  <thead>\n",
       "    <tr style=\"text-align: right;\">\n",
       "      <th></th>\n",
       "      <th>X</th>\n",
       "      <th>Y</th>\n",
       "      <th>Analog Voltage Output (V)</th>\n",
       "      <th>Measured Airspeed (m/s)</th>\n",
       "    </tr>\n",
       "  </thead>\n",
       "  <tbody>\n",
       "  </tbody>\n",
       "</table>\n",
       "</div>"
      ],
      "text/plain": [
       "Empty DataFrame\n",
       "Columns: [X, Y, Analog Voltage Output (V), Measured Airspeed (m/s)]\n",
       "Index: []"
      ]
     },
     "execution_count": 7,
     "metadata": {},
     "output_type": "execute_result"
    }
   ],
   "source": [
    "OutputDF"
   ]
  },
  {
   "cell_type": "code",
   "execution_count": 6,
   "metadata": {
    "collapsed": false
   },
   "outputs": [],
   "source": [
    "webSocket.send(\"Move_X(10.0)\")"
   ]
  },
  {
   "cell_type": "code",
   "execution_count": 7,
   "metadata": {
    "collapsed": false
   },
   "outputs": [],
   "source": [
    "webSocket.send(\"Move_Y(10.0)\")"
   ]
  },
  {
   "cell_type": "code",
   "execution_count": 8,
   "metadata": {
    "collapsed": false
   },
   "outputs": [
    {
     "name": "stdout",
     "output_type": "stream",
     "text": [
      "Sending message: ReturnAnalog()\n",
      "Recieved message:  0.457\n",
      "Last_recieved_Message 0.457\n",
      "SocketsCreator Message: 0.457\n"
     ]
    },
    {
     "data": {
      "text/plain": [
       "u'0.457'"
      ]
     },
     "execution_count": 8,
     "metadata": {},
     "output_type": "execute_result"
    }
   ],
   "source": [
    "Analog = webSocket.response(\"ReturnAnalog()\")\n",
    "\n",
    "#Display Analog\n",
    "Analog"
   ]
  },
  {
   "cell_type": "code",
   "execution_count": 9,
   "metadata": {
    "collapsed": false
   },
   "outputs": [
    {
     "name": "stdout",
     "output_type": "stream",
     "text": [
      "Sending message: ReadAnalog(0.0,0.0)\n",
      "Recieved message:  0.45600000000000007\n",
      "Last_recieved_Message 0.45600000000000007\n",
      "SocketsCreator Message: 0.45600000000000007\n",
      "Ipython message =  0.45600000000000007\n"
     ]
    }
   ],
   "source": [
    "#Sample message: API Format \"ReadAnalog(double x, double y)\"\n",
    "#ResponseString = \"ReadAnalog({1},{2})\".format(InputDF[)\n",
    "time.sleep(1)\n",
    "Message = webSocket.response(\"ReadAnalog(0.0,0.0)\")\n",
    "# time.sleep(2)\n",
    "print \"Ipython message = \",Message\n"
   ]
  },
  {
   "cell_type": "code",
   "execution_count": null,
   "metadata": {
    "collapsed": true
   },
   "outputs": [],
   "source": []
  }
 ],
 "metadata": {
  "kernelspec": {
   "display_name": "Python 2",
   "language": "python",
   "name": "python2"
  }
 },
 "nbformat": 4,
 "nbformat_minor": 0
}
