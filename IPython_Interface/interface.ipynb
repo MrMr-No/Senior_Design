{
 "cells": [
  {
   "cell_type": "code",
   "execution_count": 13,
   "metadata": {
    "collapsed": false,
    "scrolled": true
   },
   "outputs": [
    {
     "name": "stdout",
     "output_type": "stream",
     "text": [
      "Before WebSockets Connection\n",
      "Made it here\n",
      "Recieved message:  Connection Successful\n",
      "Recieved message:  Connection Made\n",
      "Recieved message:  Analog Voltage: 1.798\n"
     ]
    }
   ],
   "source": [
    "# %load interface.py\n",
    "#This file contains the notebook interface script\n",
    "\n",
    "\n",
    "import numpy as np\n",
    "import matplotlib.pyplot as plt\n",
    "import time\n",
    "import math\n",
    "from SocketsCreator import CreateClient\n",
    "from SocketsCreator import PyClient\n",
    "import time\n",
    "\n",
    "\n",
    "\n",
    "\n",
    "#beagleBone Connection\n",
    "\n",
    "AnalogVoltages = []\n",
    "\n",
    "webSocket = CreateClient()\n",
    "time.sleep(2)\n",
    "\n",
    "# webSocket.send(\"MakeConnection\")\n",
    "#Number of Samples\n",
    "n = 4; \n",
    "# webSocket.send(\"ReadAnalog(double x, double y)\");\n",
    "\n",
    "\n",
    "\n",
    "\n",
    "\n",
    "\n",
    "\n",
    "\n",
    "\n",
    "# sample_analog_data = [1,3,4,5,3,6,7,7,8,5,2,1]\n",
    "# time = [(lambda x: x+1)(x) for x in range(len(sample_analog_data))]\n",
    "\n",
    "# sample_data_array = np.array(sample_analog_data)\n",
    "# time_array = np.array(time)\n",
    "\n",
    "\n",
    "\n",
    "# plt.plot(time_array, sample_data_array)\n",
    "# plt.show()\n",
    "\n",
    "\n"
   ]
  },
  {
   "cell_type": "code",
   "execution_count": 11,
   "metadata": {
    "collapsed": false
   },
   "outputs": [
    {
     "name": "stdout",
     "output_type": "stream",
     "text": [
      "Recieved message:  Connection Made\n",
      "Recieved message:  Analog Voltage: 1.798\n"
     ]
    }
   ],
   "source": [
    "webSocket.send(\"MakeConnection\")\n",
    "time.sleep(2)\n"
   ]
  },
  {
   "cell_type": "code",
   "execution_count": null,
   "metadata": {
    "collapsed": true
   },
   "outputs": [],
   "source": []
  },
  {
   "cell_type": "code",
   "execution_count": null,
   "metadata": {
    "collapsed": true
   },
   "outputs": [],
   "source": []
  },
  {
   "cell_type": "code",
   "execution_count": null,
   "metadata": {
    "collapsed": true
   },
   "outputs": [],
   "source": []
  },
  {
   "cell_type": "code",
   "execution_count": null,
   "metadata": {
    "collapsed": true
   },
   "outputs": [],
   "source": []
  }
 ],
 "metadata": {
  "kernelspec": {
   "display_name": "Python 2",
   "language": "python",
   "name": "python2"
  },
  "language_info": {
   "codemirror_mode": {
    "name": "ipython",
    "version": 2
   },
   "file_extension": ".py",
   "mimetype": "text/x-python",
   "name": "python",
   "nbconvert_exporter": "python",
   "pygments_lexer": "ipython2",
   "version": "2.7.9"
  }
 },
 "nbformat": 4,
 "nbformat_minor": 0
}
