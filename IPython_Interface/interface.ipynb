{
 "cells": [
  {
   "cell_type": "code",
   "execution_count": 53,
   "metadata": {
    "collapsed": false,
    "scrolled": true
   },
   "outputs": [
    {
     "name": "stdout",
     "output_type": "stream",
     "text": [
      "Closed down 1006 Going away\n",
      "             Y-Cordinate  Delta T\n",
      "X-Cordinate                      \n",
      "4.0                  5.0        2\n",
      "6.8                  9.2        1\n",
      "7.8                  9.3        1\n",
      "10.0                16.0        2\n",
      "30.0                45.0        1\n",
      "70.2                 3.0        1\n",
      "9.3                 10.0        3\n",
      "Before WebSockets Connection\n",
      "Made it here\n",
      "Recieved message:  Connection Successful\n",
      "Last_recieved_Message Connection Successful\n",
      "Recieved message:  Connection Made\n",
      "Last_recieved_Message Connection Made\n",
      "Recieved message:  Analog Voltage: 1.336\n",
      "Last_recieved_Message Analog Voltage: 1.336\n"
     ]
    }
   ],
   "source": [
    "# %load interface.py\n",
    "#This file contains the notebook interface script\n",
    "\n",
    "\n",
    "import pandas as pd\n",
    "import matplotlib.pyplot as plt\n",
    "import time\n",
    "import math\n",
    "from SocketsCreator import CreateClient\n",
    "from SocketsCreator import PyClient\n",
    "import time\n",
    "\n",
    "\n",
    "#Read Datapoints from CSV\n",
    "\n",
    "csv_path = \"/Users/alexlerikos/Desktop/python/SeniorDesign/Senior_Design/IPython_Interface/SampleInput.csv\"\n",
    "\n",
    "\n",
    "InputDF = pd.DataFrame.from_csv(csv_path)\n",
    "\n",
    "print InputDF\n",
    "\n",
    "#beagleBone Connection\n",
    "\n",
    "webSocket = CreateClient()\n",
    "time.sleep(1)\n",
    "\n",
    "\n",
    "\n",
    "# webSocket.send(\"MakeConnection\")\n",
    "#Number of Samples\n",
    "n = 4; \n",
    "# webSocket.send(\"ReadAnalog(double x, double y)\");\n",
    "\n",
    "\n",
    "\n",
    "\n",
    "\n",
    "\n",
    "\n",
    "\n",
    "\n",
    "# sample_analog_data = [1,3,4,5,3,6,7,7,8,5,2,1]\n",
    "# time = [(lambda x: x+1)(x) for x in range(len(sample_analog_data))]\n",
    "\n",
    "# sample_data_array = np.array(sample_analog_data)\n",
    "# time_array = np.array(time)\n",
    "\n",
    "\n",
    "\n",
    "# plt.plot(time_array, sample_data_array)\n",
    "# plt.show()\n",
    "\n",
    "\n"
   ]
  },
  {
   "cell_type": "code",
   "execution_count": 59,
   "metadata": {
    "collapsed": false
   },
   "outputs": [
    {
     "name": "stdout",
     "output_type": "stream",
     "text": [
      "Sending message: ReadAnalog(10.0,11.0)\n",
      "Recieved message: SocketsCreator Message: ReadAnalog BB Voltage : 1.331 ReadAnalog BB Voltage : 1.332\n",
      "Last_recieved_Message ReadAnalog BB Voltage : 1.332\n",
      "\n",
      "Ipython message =  ReadAnalog BB Voltage : 1.332\n"
     ]
    }
   ],
   "source": [
    "#Sample message: API Format \"ReadAnalog(double x, double y)\"\n",
    "#ResponseString = \"ReadAnalog({1},{2})\".format(InputDF[)\n",
    "time.sleep(5)\n",
    "Message = webSocket.response(\"ReadAnalog(10.0,11.0)\")\n",
    "# time.sleep(2)\n",
    "print \"Ipython message = \",Message\n"
   ]
  },
  {
   "cell_type": "code",
   "execution_count": null,
   "metadata": {
    "collapsed": true
   },
   "outputs": [],
   "source": []
  },
  {
   "cell_type": "code",
   "execution_count": null,
   "metadata": {
    "collapsed": true
   },
   "outputs": [],
   "source": []
  },
  {
   "cell_type": "code",
   "execution_count": null,
   "metadata": {
    "collapsed": true
   },
   "outputs": [],
   "source": []
  }
 ],
 "metadata": {
  "kernelspec": {
   "display_name": "Python 2",
   "language": "python",
   "name": "python2"
  }
 },
 "nbformat": 4,
 "nbformat_minor": 0
}
